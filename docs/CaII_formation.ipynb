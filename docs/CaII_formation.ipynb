{
 "cells": [
  {
   "cell_type": "markdown",
   "metadata": {},
   "source": [
    "\n",
    "# Formation of Ca II lines\n",
    "\n",
    "In this exercise we will explore the formation of Ca II lines. First, we will work with different model atoms, and adjust the `atoms.input` file accordingly.\n",
    "\n",
    "## Working with different atom files\n",
    "\n",
    "We've seen before that atoms can be either `PASSIVE` or `ACTIVE`. `ACTIVE` means they will be treated in full non-LTE, while `PASSIVE` are only included in background opacity calculations if their transitions are covered by a wavelength used in the calculations (determined by the `ACTIVE` atoms). \n",
    "\n",
    "For completeness, we will include a few large atoms as `PASSIVE`. Create a new `atoms.input` file with the following atom files:\n",
    "\n",
    "* MgII-IRIS.atom\n",
    "* CaII_PRD.atom\n",
    "* Si.atom\n",
    "* Al.atom\n",
    "* Fe.atom\n",
    "* He.atom\n",
    "* N.atom\n",
    "* Na.atom\n",
    "* S.atom\n",
    "\n",
    "These are available in the `../../Atoms` directory, so adjust the paths. Use `LTE_POPULATIONS` for all but the H, Ca II and Mg II atoms (use `ZERO_RADIATION` for these). The population file column can be left empty, but adjust the `Nmetal` value at the start of `atoms.input`. Set only `CaII_PRD.atom` as `ACTIVE` and run RH.\n",
    "\n",
    "## Selecting wavelengths for detailed output\n",
    "\n",
    "Look at the output from the previous run. Chose a line of Ca II to work with (e.g. Ca II H or Ca II 854.2 nm). To examine the output in detail not all wavelengths are written to disk (to save space), so we must decide which ones to include. You will need to create a file `ray.input` that contains the indices of wavelengths to be saved. \n",
    "\n",
    "The indices of wavelengths are dependent on the model atoms and other input options, so it is handy to examine the previous run so you can identify the indices. For example, after loading the output into `data`, you can find the indices of 392.8 $< \\lambda <$ 394.0 by doing:"
   ]
  },
  {
   "cell_type": "code",
   "execution_count": null,
   "metadata": {
    "collapsed": true,
    "jupyter": {
     "outputs_hidden": true
    }
   },
   "outputs": [],
   "source": [
    "data = rh15d.Rh15dout()\n",
    "wave = data.ray.wavelength\n",
    "indices = np.arange(len(wave))[(wave > 392.8) & (wave < 394.0)]"
   ]
  },
  {
   "cell_type": "markdown",
   "metadata": {},
   "source": [
    "We want to save also the wavelength of 500 nm. To make sure it is actually calculated, you can do:"
   ]
  },
  {
   "cell_type": "code",
   "execution_count": null,
   "metadata": {
    "collapsed": true,
    "jupyter": {
     "outputs_hidden": true
    }
   },
   "outputs": [],
   "source": [
    "wave.sel(wavelength=500, method='nearest')"
   ]
  },
  {
   "cell_type": "markdown",
   "metadata": {},
   "source": [
    "and get its index with:"
   ]
  },
  {
   "cell_type": "code",
   "execution_count": null,
   "metadata": {
    "collapsed": true,
    "jupyter": {
     "outputs_hidden": true
    }
   },
   "outputs": [],
   "source": [
    "index500 = np.argmin(np.abs(wave.data - 500))"
   ]
  },
  {
   "cell_type": "markdown",
   "metadata": {},
   "source": [
    "To save this into a file `ray.input` we do:"
   ]
  },
  {
   "cell_type": "code",
   "execution_count": null,
   "metadata": {
    "collapsed": true,
    "jupyter": {
     "outputs_hidden": true
    }
   },
   "outputs": [],
   "source": [
    "f = open('ray.input', 'w')  # this will overwrite any existing file!\n",
    "f.write('1.00\\n')\n",
    "output = str(len(indices) + 1)\n",
    "for ind in indices:\n",
    "    output += ' %i' % ind\n",
    "output += ' %i\\n' % index500 \n",
    "f.write(output)\n",
    "f.close()"
   ]
  },
  {
   "cell_type": "markdown",
   "metadata": {},
   "source": [
    "And now we run RH again! If you examine the `output_ray.hdf5` with `ncdump -h` or `h5dump -H` you'll see that it contains several other arrays, such as `chi` and `source function`. We will work with these next.\n",
    "\n",
    "## Calculating optical depths\n",
    "\n",
    "For the detailed output wavelengths, RH saves the monochromatic linear extinction coefficient (per length unit, variable `chi`) but not the optical depth. We can obtain the optical depths by integrating `chi` over height. *After* you have run RH with detailed output and loaded the arrays, you can do:"
   ]
  },
  {
   "cell_type": "code",
   "execution_count": null,
   "metadata": {
    "collapsed": true,
    "jupyter": {
     "outputs_hidden": true
    }
   },
   "outputs": [],
   "source": [
    "from scipy.integrate.quadrature import cumtrapz\n",
    "\n",
    "height = data.atmos.height_scale[0, 0].dropna('height')  # first column\n",
    "index500 = np.argmin(np.abs(data.ray.wavelength_selected - 500))  # index of 500 nm\n",
    "tau500 = cumtrapz(data.ray.chi[0, 0, :, index500].dropna('height'), x=-height)\n",
    "tau500 = np.concatenate([[1e-20], tau500])  # ensure tau500 and height have same size"
   ]
  },
  {
   "cell_type": "markdown",
   "metadata": {},
   "source": [
    "!!! info\n",
    "    In the above we make use of `.dropna('height')`, a method in `xarray`. This is only needed when you ran RH with the option `15D_DEPTH_ZCUT = TRUE`. When `TRUE`, RH 1.5D will not include the top of the atmosphere, defined as where the temperature first reaches a temperature equal to `15D_TMAX_CUT`, another option in `keyword.input`. The reasoning for this is to save computer time by removing depth points from the calculation, and prevent any numerical instabilities from large gradients when calculating lines formed in the photosphere or chromosphere. When `15D_DEPTH_ZCUT = TRUE`, the output files will still have arrays that have all the depth points of the input atmosphere. RH 1.5D will write the missing points with a special fill value (typically 9.96921e+36), which `xarray` will interpret as `NaN`. Using `.dropna('height')` will cause `xarray` to exclude points with `NaN` from the calculations.\n",
    "\n"
   ]
  },
  {
   "cell_type": "markdown",
   "metadata": {},
   "source": [
    "Now you can plot $\\tau_{500}$ vs height:"
   ]
  },
  {
   "cell_type": "code",
   "execution_count": null,
   "metadata": {
    "collapsed": true,
    "jupyter": {
     "outputs_hidden": true
    }
   },
   "outputs": [],
   "source": [
    "fig, ax = plt.subplots()\n",
    "ax.plot(height / 1e6, tau500)  # height in Mm"
   ]
  },
  {
   "cell_type": "markdown",
   "metadata": {},
   "source": [
    "Now you can answer the following:\n",
    "\n",
    "* At what height does $\\tau$ reach unity at 500 nm? What about in the core of your Ca II line?\n",
    "* Plot the departure coefficients for the ground Ca II level on a height scale and on a $\\tau_{500}$ scale\n",
    "* Plot the $\\tau$=1 height as function of wavelength for the Ca II line"
   ]
  },
  {
   "cell_type": "markdown",
   "metadata": {},
   "source": [
    "## Source function widget\n",
    "\n",
    "Now that your output files have the detailed output, you can use the `SourceFunction` widget from `rh15d_vis`:"
   ]
  },
  {
   "cell_type": "code",
   "execution_count": null,
   "metadata": {
    "collapsed": true,
    "jupyter": {
     "outputs_hidden": true
    }
   },
   "outputs": [],
   "source": [
    "rh15d_vis.SourceFunction(data);"
   ]
  },
  {
   "cell_type": "markdown",
   "metadata": {},
   "source": [
    "And you can answer the following:\n",
    "\n",
    "* At what height does the source function depart from the Planck function for the wings of the Ca II line? And at the line core?"
   ]
  }
 ],
 "metadata": {
  "kernelspec": {
   "display_name": "Python 3",
   "language": "python",
   "name": "python3"
  },
  "language_info": {
   "codemirror_mode": {
    "name": "ipython",
    "version": 3
   },
   "file_extension": ".py",
   "mimetype": "text/x-python",
   "name": "python",
   "nbconvert_exporter": "python",
   "pygments_lexer": "ipython3",
   "version": "3.7.3"
  }
 },
 "nbformat": 4,
 "nbformat_minor": 4
}
