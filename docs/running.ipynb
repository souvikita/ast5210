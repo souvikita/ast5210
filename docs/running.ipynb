{
 "cells": [
  {
   "cell_type": "markdown",
   "metadata": {},
   "source": [
    "# Running RH 1.5D"
   ]
  },
  {
   "cell_type": "markdown",
   "metadata": {},
   "source": [
    "## Auxiliary files\n",
    "\n",
    "The RH 1.5D distribution that you obtained from Github does not contain all the files necessary for this course. Please download an [additional archive](rh_ast5210.tar.bz2) and unpack it in the RH main folder:\n",
    "\n",
    "```\n",
    "$ tar jxvf rh_ast5210.tar.bz2\n",
    "```\n",
    "\n",
    "This will place all files in their correct directories."
   ]
  },
  {
   "cell_type": "markdown",
   "metadata": {},
   "source": [
    "## Quickstart: running and looking at output\n",
    "\n",
    "You should run the code in a `run` directory. When you get the source, there should be a directory under `rh/rh15d/run_example`. You can copy this directory to your own so you can make your changes:\n",
    "\n",
    "```\n",
    "$ cp -rp run_example run\n",
    "$ cd run\n",
    "```\n",
    "\n",
    "Once inside `run`, there are already some input files and directories. You can do a test run of RH by doing:\n",
    "\n",
    "    ../rh15d_ray\n",
    "    \n",
    "By default this will run with only one processor, and an example calculation with a Ca atom. You can read a lot more detail into the [input files](https://rh15d.readthedocs.io/en/latest/input.html) and [running options](https://rh15d.readthedocs.io/en/latest/running.html) in the documentation.\n",
    "\n",
    "Inside your `run` directory go through the different tasks:\n",
    "\n",
    "* Run the different binaries: `rh15d_ray`, `rh15d_ray_pool`, `rh15d_lteray`. \n",
    "* What happens if you run `rh15d_ray_pool` without calling `mpiexec` or `mpirun`?\n",
    "* Explore the output files in the command line with `ncdump -h` or `h5dump -H`.\n",
    "\n",
    "### Using Jupyter notebooks\n",
    "\n",
    "You can have a look at the RH 1.5D sample notebooks under ``rh/doc/notebooks/``. For the work in these exercises, it is recommend it that you run jupyter from a directory of your chosing, ideally where you have output files from RH (e.g. the directory ``output/`` inside your run directory). The notebook source files (``*.ipynb``) will be saved there.\n",
    "\n",
    "Once in the jupyter starting page, select \"New\" and then \"Python 3\". In the first cell, add the boilerplate code mentioned earlier:"
   ]
  },
  {
   "cell_type": "code",
   "execution_count": null,
   "metadata": {
    "collapsed": true
   },
   "outputs": [],
   "source": [
    "%matplotlib widget\n",
    "import numpy as np\n",
    "import matplotlib.pyplot as plt\n",
    "from helita.sim import rh15d, rh15d_vis"
   ]
  },
  {
   "cell_type": "markdown",
   "metadata": {},
   "source": [
    "And now you are ready to start playing with RH."
   ]
  },
  {
   "cell_type": "markdown",
   "metadata": {},
   "source": [
    "### Exploring input atmospheres\n",
    "\n",
    "Your default `keyword.input` file uses the `FALC_82_5x5.hdf5` atmosphere file, which is a FAL C atmosphere converted to HDF5 format and replicated to 5x5 columns in 3D. All columns have the same information. Under the directory `rh/Atmos` you will also find a file called `bifrost_cb24bih_s385_cut.hdf5`, which is a cut from a 3D simulation from Bifrost. You can explore both with the `rh15d_vis.InputAtmosphere` procedure. You need to pass the filename of an atmosphere file as argument:"
   ]
  },
  {
   "cell_type": "code",
   "execution_count": null,
   "metadata": {
    "collapsed": true
   },
   "outputs": [],
   "source": [
    "rh15d_vis.InputAtmosphere('MY_ATMOS_DIR/Atmos/FALC_82_5x5.hdf5');"
   ]
  },
  {
   "cell_type": "markdown",
   "metadata": {},
   "source": [
    "Replace ``MY_ATMOS_DIR`` with the directory where you have the RH atmospheres (typically in ``rh/Atmos``). You can give relative or absolute paths."
   ]
  },
  {
   "cell_type": "markdown",
   "metadata": {},
   "source": [
    "### Exploring the output\n",
    "\n",
    "If you are in a directory with the output files of RH, you can simply enter the following to load the data:"
   ]
  },
  {
   "cell_type": "code",
   "execution_count": null,
   "metadata": {
    "collapsed": true
   },
   "outputs": [],
   "source": [
    "data = rh15d.Rh15dout()"
   ]
  },
  {
   "cell_type": "markdown",
   "metadata": {},
   "source": [
    "If your output files are in a different directory, pass that directory as an argument to ``Rh15dout()``. Once you have the output loaded, a simple inspection of the intensity can be made with:"
   ]
  },
  {
   "cell_type": "code",
   "execution_count": null,
   "metadata": {
    "collapsed": true
   },
   "outputs": [],
   "source": [
    "fig, ax = plt.subplots()\n",
    "data.ray.intensity.plot()"
   ]
  },
  {
   "cell_type": "markdown",
   "metadata": {},
   "source": [
    "By default this will show all calculated wavelengths, but you can zoom in to a line of interest with matplotlib's interactive figure."
   ]
  }
 ],
 "metadata": {
  "kernelspec": {
   "display_name": "Python 3",
   "language": "python",
   "name": "python3"
  },
  "language_info": {
   "codemirror_mode": {
    "name": "ipython",
    "version": 3
   },
   "file_extension": ".py",
   "mimetype": "text/x-python",
   "name": "python",
   "nbconvert_exporter": "python",
   "pygments_lexer": "ipython3",
   "version": "3.6.7"
  }
 },
 "nbformat": 4,
 "nbformat_minor": 2
}
