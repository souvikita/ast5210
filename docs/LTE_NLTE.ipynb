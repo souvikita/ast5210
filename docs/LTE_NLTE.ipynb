{
 "cells": [
  {
   "cell_type": "markdown",
   "metadata": {},
   "source": [
    "# LTE and non-LTE\n",
    "\n",
    "## Populations and intensities\n",
    "\n",
    "In your run directory, change the `atoms.input` file so that the Ca is `PASSIVE` and the H atom is `ACTIVE`. In `keyword.input` set `15D_WRITE_POPS=TRUE` so that the level populations are written. Leave everything else the same, run `rh15d_ray` go through the following tasks:\n",
    "\n",
    "* Examine the output. Look at intensities of the H$\\alpha$ line\n",
    "* Look at the level populations, and departure coefficients. Which level has the strongest departures?\n",
    "\n",
    "Now rename the `output_ray.hdf5` file, e.g.:\n",
    "\n",
    "    $ mv output/output_ray.hdf5 output/output_ray_NLTE.hdf5\n",
    "    \n",
    "Run RH again, but this time in LTE with `rh15d_lteray`. This is a special binary that only runs the problem in LTE. While normal `rh15d_ray` can write out both LTE and non-LTE populations, to obtain the LTE *intensities* you must run `rh15d_lteray` (which only writes `output_ray.hdf5`, and no populations or any other output). \n",
    "\n",
    "Compare the H$\\alpha$ intensities in LTE and NLTE. What are the differences?\n",
    "\n",
    "Note that by default, `rh15d.Rh15dout()` will read the file named `output_ray.hdf5` only. You can call it twice to make two objects, but make sure the second object does not load the same files by switching off the automatic read:"
   ]
  },
  {
   "cell_type": "code",
   "execution_count": null,
   "metadata": {
    "collapsed": true,
    "jupyter": {
     "outputs_hidden": true
    }
   },
   "outputs": [],
   "source": [
    "fig, ax = plt.subplots()\n",
    "data1 = rh15d.Rh15dout()\n",
    "data2 = rh15d.Rh15dout(autoread=False)\n",
    "data2.read_ray('output_ray_NLTE.hdf5')\n",
    "data1.ray.intensity.plot()\n",
    "data2.ray.intensity.plot()"
   ]
  },
  {
   "cell_type": "markdown",
   "metadata": {},
   "source": [
    "Or you can just read the files directly with xarray:"
   ]
  },
  {
   "cell_type": "code",
   "execution_count": null,
   "metadata": {
    "collapsed": true,
    "jupyter": {
     "outputs_hidden": true
    }
   },
   "outputs": [],
   "source": [
    "import xarray as xr\n",
    "data1 = xr.open_dataset(\"output_ray.hdf5\")\n",
    "data2 = xr.open_dataset(\"output_ray_NLTE.hdf5\")\n",
    "data1.intensity.plot()\n",
    "data2.intensity.plot()"
   ]
  },
  {
   "cell_type": "markdown",
   "metadata": {},
   "source": [
    "## Initial solution\n",
    "\n",
    "In this part we will only do runs in NLTE. RH solves the radiative transfer equation in an iterative procedure, using the accelerated $\\Lambda$ iteration to arrive at the final solution. How quickly it arrives at the final result depends on how good our initial estimate is. RH has different methods for this, and different atoms work better with different initial solutions.\n",
    "\n",
    "Let's experiment with the initial solution in a hydrogen atom. In `atoms.input`, you'll see that hydrogen has an initial solution of `ZERO_RADIATION`. Run `rh15d_ray` again and check how many iterations were necessary to achieve convergence. Plot the array `data.mpi.delta_max_history` (available when you load the output with `rh15d.Rh15dout()`), which shows the convergence history:"
   ]
  },
  {
   "cell_type": "code",
   "execution_count": null,
   "metadata": {
    "collapsed": true,
    "jupyter": {
     "outputs_hidden": true
    }
   },
   "outputs": [],
   "source": [
    "fig, ax = plt.subplots()\n",
    "data.mpi.delta_max_history.plot()"
   ]
  },
  {
   "cell_type": "markdown",
   "metadata": {},
   "source": [
    "Now change the H initial solution to `LTE_POPULATIONS`. How many iterations did it take? Compare the convergence plots with both initial solutions. Can you see the accelerated iterations? What is their period? Try running with no acceleration to see the result (set `NG_ORDER=0` in `keyword.input`).\n",
    "\n",
    "!!! info\n",
    "    When you run RH 1.5D multiple times, the output files will be **overwritten**. If you want to save the results, it is recommended you copy the `output*hdf5` files to a different directory. With the `helita` interface, you can load RH output from different directories by passing the directory name as argument to the `Rh15dout` call, e.g.: `data1 = rh15d.Rh15dout()` reads from current directory, while `data2 = rh15d.Rh15dout('mydir/')` reads the output from `mydir/`."
   ]
  }
 ],
 "metadata": {
  "kernelspec": {
   "display_name": "Python 3",
   "language": "python",
   "name": "python3"
  },
  "language_info": {
   "codemirror_mode": {
    "name": "ipython",
    "version": 3
   },
   "file_extension": ".py",
   "mimetype": "text/x-python",
   "name": "python",
   "nbconvert_exporter": "python",
   "pygments_lexer": "ipython3",
   "version": "3.7.3"
  }
 },
 "nbformat": 4,
 "nbformat_minor": 4
}
